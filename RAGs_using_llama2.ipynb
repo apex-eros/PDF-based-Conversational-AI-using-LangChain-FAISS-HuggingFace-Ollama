{
 "cells": [
  {
   "cell_type": "code",
   "execution_count": 1,
   "metadata": {},
   "outputs": [],
   "source": [
    "from langchain.vectorstores import FAISS\n",
    "from langchain.embeddings import HuggingFaceEmbeddings\n",
    "from langchain.document_loaders import PyPDFLoader\n",
    "from langchain.text_splitter import RecursiveCharacterTextSplitter\n",
    "from langchain.chains import ConversationalRetrievalChain\n",
    "from langchain.prompts import PromptTemplate"
   ]
  },
  {
   "cell_type": "code",
   "execution_count": 4,
   "metadata": {},
   "outputs": [],
   "source": [
    "pdf_reader = PyPDFLoader('C:/Users/Admin/Desktop/machine-learning-absolute-beginners-introduction-2nd.pdf')\n",
    "documents = pdf_reader.load()\n",
    "text_splitter = RecursiveCharacterTextSplitter(chunk_size=1000,chunk_overlap=20)\n",
    "chunks = text_splitter.split_documents(documents)"
   ]
  },
  {
   "cell_type": "code",
   "execution_count": 5,
   "metadata": {},
   "outputs": [
    {
     "name": "stderr",
     "output_type": "stream",
     "text": [
      "C:\\Users\\Admin\\AppData\\Local\\Temp\\ipykernel_14960\\1687063629.py:1: LangChainDeprecationWarning: The class `HuggingFaceEmbeddings` was deprecated in LangChain 0.2.2 and will be removed in 1.0. An updated version of the class exists in the :class:`~langchain-huggingface package and should be used instead. To use it run `pip install -U :class:`~langchain-huggingface` and import as `from :class:`~langchain_huggingface import HuggingFaceEmbeddings``.\n",
      "  embeddings = HuggingFaceEmbeddings()\n",
      "C:\\Users\\Admin\\AppData\\Local\\Temp\\ipykernel_14960\\1687063629.py:1: LangChainDeprecationWarning: Default values for HuggingFaceEmbeddings.model_name were deprecated in LangChain 0.2.16 and will be removed in 0.4.0. Explicitly pass a model_name to the HuggingFaceEmbeddings constructor instead.\n",
      "  embeddings = HuggingFaceEmbeddings()\n"
     ]
    }
   ],
   "source": [
    "embeddings = HuggingFaceEmbeddings()\n",
    "db = FAISS.from_documents(documents=chunks,embedding=embeddings)"
   ]
  },
  {
   "cell_type": "code",
   "execution_count": 6,
   "metadata": {},
   "outputs": [
    {
     "name": "stderr",
     "output_type": "stream",
     "text": [
      "C:\\Users\\Admin\\AppData\\Local\\Temp\\ipykernel_14960\\2262248675.py:4: LangChainDeprecationWarning: The class `Ollama` was deprecated in LangChain 0.3.1 and will be removed in 1.0.0. An updated version of the class exists in the :class:`~langchain-ollama package and should be used instead. To use it run `pip install -U :class:`~langchain-ollama` and import as `from :class:`~langchain_ollama import OllamaLLM``.\n",
      "  llm = Ollama(model='llama2')\n",
      "C:\\Users\\Admin\\AppData\\Local\\Temp\\ipykernel_14960\\2262248675.py:8: LangChainDeprecationWarning: The method `BaseLLM.predict` was deprecated in langchain-core 0.1.7 and will be removed in 1.0. Use :meth:`~invoke` instead.\n",
      "  response = llm.predict(question)\n"
     ]
    },
    {
     "name": "stdout",
     "output_type": "stream",
     "text": [
      "\n",
      "India gained independence from British colonial rule on August 15, 1947. This followed the partition of India and Pakistan in 1947, which was implemented according to the Indian Independence Act passed by the British Parliament in 1947. Prior to that, India was a colony of the British Empire since 1858, when the British East India Company's charter was dissolved and the British government took control of India.\n"
     ]
    }
   ],
   "source": [
    "#Initialize the model\n",
    "\n",
    "from langchain.llms import Ollama\n",
    "llm = Ollama(model='llama2')\n",
    "\n",
    "# Generate answers to questions\n",
    "question = \"When did India gets its Independence?\"\n",
    "response = llm.predict(question)\n",
    "print(response)"
   ]
  },
  {
   "cell_type": "code",
   "execution_count": 7,
   "metadata": {},
   "outputs": [],
   "source": [
    "CONDENSE_QUESTION_PROMPT = PromptTemplate.from_template(\"\"\"Given the following conversation and a follow question, rephrase the follow up question to be a standalone question.\n",
    "                                                        Chat History:{chat_history}\n",
    "                                                        Follow up Input: {question}\n",
    "                                                        Standalone Question:\"\"\")\n",
    "\n",
    "qa = ConversationalRetrievalChain.from_llm(llm=llm,retriever=db.as_retriever(),condense_question_prompt=CONDENSE_QUESTION_PROMPT,return_source_documents=False,\n",
    "                                           verbose=False)"
   ]
  },
  {
   "cell_type": "code",
   "execution_count": 8,
   "metadata": {},
   "outputs": [
    {
     "name": "stderr",
     "output_type": "stream",
     "text": [
      "C:\\Users\\Admin\\AppData\\Local\\Temp\\ipykernel_14960\\1184973188.py:3: LangChainDeprecationWarning: The method `Chain.__call__` was deprecated in langchain 0.1.0 and will be removed in 1.0. Use :meth:`~invoke` instead.\n",
      "  result = qa({\"question\":query,\"chat_history\":chat_history})\n"
     ]
    }
   ],
   "source": [
    "chat_history = []\n",
    "query=\"\"\"what is this pdf about? Tell me about the contents in it\"\"\"\n",
    "result = qa({\"question\":query,\"chat_history\":chat_history})"
   ]
  },
  {
   "cell_type": "code",
   "execution_count": 9,
   "metadata": {},
   "outputs": [
    {
     "name": "stdout",
     "output_type": "stream",
     "text": [
      "Based on the provided context, it appears that the PDF is a book or guide related to machine learning and artificial intelligence. The document mentions different tools and techniques used in these fields, including neural networks, Markov models, support vector machines, Q-learning, and more. The book seems to be targeted towards individuals who are interested in learning about advanced machine learning algorithms and libraries, such as TensorFlow.\n",
      "\n",
      "The contents of the PDF include:\n",
      "\n",
      "1. An introduction to the third compartment of the advanced toolbox, which contains machine learning algorithms.\n",
      "2. A discussion of various algorithms used in large datasets analysis, including Markov models, support vector machines, and Q-learning.\n",
      "3. An overview of neural networks and their usage in machine learning, including automatic calculus for back-propagation/gradient descent.\n",
      "4. A recommendation of TensorFlow as the machine learning library of choice for deep learning/neural networks due to its extensive resources, documentation, and job availability.\n",
      "5. Copyright information at the end of the document.\n"
     ]
    }
   ],
   "source": [
    "print(result['answer'])"
   ]
  }
 ],
 "metadata": {
  "kernelspec": {
   "display_name": "Python 3",
   "language": "python",
   "name": "python3"
  },
  "language_info": {
   "codemirror_mode": {
    "name": "ipython",
    "version": 3
   },
   "file_extension": ".py",
   "mimetype": "text/x-python",
   "name": "python",
   "nbconvert_exporter": "python",
   "pygments_lexer": "ipython3",
   "version": "3.10.8"
  }
 },
 "nbformat": 4,
 "nbformat_minor": 2
}
